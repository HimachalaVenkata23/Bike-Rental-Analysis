{
 "cells": [
  {
   "cell_type": "code",
   "execution_count": 2,
   "metadata": {},
   "outputs": [],
   "source": [
    "import os\n",
    "import pandas as pd\n",
    "import csv\n",
    "import seaborn as sns\n",
    "import matplotlib.pyplot as plt\n",
    "import numpy as np\n",
    "%matplotlib inline\n"
   ]
  },
  {
   "cell_type": "code",
   "execution_count": 2,
   "metadata": {},
   "outputs": [],
   "source": [
    "os.chdir(\"C:/Users/Himachala Venkata/Desktop/edwisor/Projects/Bike rentals\")"
   ]
  },
  {
   "cell_type": "code",
   "execution_count": 3,
   "metadata": {},
   "outputs": [
    {
     "data": {
      "text/plain": [
       "'C:\\\\Users\\\\Himachala Venkata\\\\Desktop\\\\edwisor\\\\Projects\\\\Bike rentals'"
      ]
     },
     "execution_count": 3,
     "metadata": {},
     "output_type": "execute_result"
    }
   ],
   "source": [
    "os.getcwd()"
   ]
  },
  {
   "cell_type": "code",
   "execution_count": 13,
   "metadata": {},
   "outputs": [],
   "source": [
    "day_df=pd.read_csv(r'C:\\Users\\Himachala Venkata\\Desktop\\edwisor\\Projects\\Bike rentals\\day (1).csv')"
   ]
  },
  {
   "cell_type": "code",
   "execution_count": 5,
   "metadata": {},
   "outputs": [
    {
     "name": "stdout",
     "output_type": "stream",
     "text": [
      "['instant', 'dteday', 'season', 'yr', 'mnth', 'holiday', 'weekday', 'workingday', 'weathersit', 'temp', 'atemp', 'hum', 'windspeed', 'casual', 'registered', 'cnt']\n"
     ]
    }
   ],
   "source": [
    "#get column names\n",
    "\n",
    "print(list(day_df.columns))"
   ]
  },
  {
   "cell_type": "code",
   "execution_count": 6,
   "metadata": {},
   "outputs": [
    {
     "name": "stdout",
     "output_type": "stream",
     "text": [
      "   instant      dteday  season  yr  mnth  holiday  weekday  workingday  \\\n",
      "0        1  01-01-2011       1   0     1        0        6           0   \n",
      "1        2  02-01-2011       1   0     1        0        0           0   \n",
      "2        3  03-01-2011       1   0     1        0        1           1   \n",
      "\n",
      "   weathersit      temp     atemp       hum  windspeed  casual  registered  \\\n",
      "0           2  0.344167  0.363625  0.805833   0.160446     331         654   \n",
      "1           2  0.363478  0.353739  0.696087   0.248539     131         670   \n",
      "2           1  0.196364  0.189405  0.437273   0.248309     120        1229   \n",
      "\n",
      "    cnt  \n",
      "0   985  \n",
      "1   801  \n",
      "2  1349  \n"
     ]
    }
   ],
   "source": [
    "print(day_df.head(3))"
   ]
  },
  {
   "cell_type": "markdown",
   "metadata": {},
   "source": [
    "Descriptive Analysis"
   ]
  },
  {
   "cell_type": "code",
   "execution_count": 7,
   "metadata": {},
   "outputs": [],
   "source": [
    "fullData=day_df\n",
    "category_features = ['season', 'holiday', 'mnth', 'weekday', 'workingday', 'weathersit']\n",
    "number_features = ['temp', 'atemp', 'hum', 'windspeed']\n",
    "\n",
    "features= category_features + number_features\n",
    "target = ['workingday']"
   ]
  },
  {
   "cell_type": "code",
   "execution_count": 8,
   "metadata": {},
   "outputs": [
    {
     "name": "stdout",
     "output_type": "stream",
     "text": [
      "             temp       atemp         hum   windspeed\n",
      "count  731.000000  731.000000  731.000000  731.000000\n",
      "mean     0.495385    0.474354    0.627894    0.190486\n",
      "std      0.183051    0.162961    0.142429    0.077498\n",
      "min      0.059130    0.079070    0.000000    0.022392\n",
      "25%      0.337083    0.337842    0.520000    0.134950\n",
      "50%      0.498333    0.486733    0.626667    0.180975\n",
      "75%      0.655417    0.608602    0.730209    0.233214\n",
      "max      0.861667    0.840896    0.972500    0.507463\n"
     ]
    }
   ],
   "source": [
    "#Get data statistics for each column:\n",
    "\n",
    "print(fullData[number_features].describe())\n"
   ]
  },
  {
   "cell_type": "code",
   "execution_count": 9,
   "metadata": {},
   "outputs": [
    {
     "name": "stdout",
     "output_type": "stream",
     "text": [
      "        season  holiday  mnth  weekday  workingday  weathersit\n",
      "count      731      731   731      731         731         731\n",
      "unique       4        2    12        7           2           3\n",
      "top          3        0    12        6           1           1\n",
      "freq       188      710    62      105         500         463\n"
     ]
    }
   ],
   "source": [
    "print(fullData[category_features].astype('category').describe())\n"
   ]
  },
  {
   "cell_type": "markdown",
   "metadata": {},
   "source": [
    "Missing Value Analysis"
   ]
  },
  {
   "cell_type": "code",
   "execution_count": 10,
   "metadata": {},
   "outputs": [
    {
     "name": "stdout",
     "output_type": "stream",
     "text": [
      "instant       False\n",
      "dteday        False\n",
      "season        False\n",
      "yr            False\n",
      "mnth          False\n",
      "holiday       False\n",
      "weekday       False\n",
      "workingday    False\n",
      "weathersit    False\n",
      "temp          False\n",
      "atemp         False\n",
      "hum           False\n",
      "windspeed     False\n",
      "casual        False\n",
      "registered    False\n",
      "cnt           False\n",
      "dtype: bool\n"
     ]
    }
   ],
   "source": [
    "#Check any NULL values in data:\n",
    "\n",
    "print(fullData.isnull().any())"
   ]
  },
  {
   "cell_type": "code",
   "execution_count": 11,
   "metadata": {},
   "outputs": [],
   "source": [
    "y=day_df.cnt"
   ]
  },
  {
   "cell_type": "code",
   "execution_count": 12,
   "metadata": {},
   "outputs": [],
   "source": [
    "from sklearn.model_selection import train_test_split"
   ]
  },
  {
   "cell_type": "code",
   "execution_count": 13,
   "metadata": {},
   "outputs": [
    {
     "name": "stdout",
     "output_type": "stream",
     "text": [
      "(584, 16) (584,)\n",
      "(147, 16) (147,)\n"
     ]
    }
   ],
   "source": [
    "# create training and testing vars\n",
    "X_train, X_test, y_train, y_test = train_test_split(day_df, y, test_size=0.2)\n",
    "print (X_train.shape, y_train.shape)\n",
    "print (X_test.shape, y_test.shape)"
   ]
  },
  {
   "cell_type": "markdown",
   "metadata": {},
   "source": [
    "Outlier analysis"
   ]
  },
  {
   "cell_type": "code",
   "execution_count": 14,
   "metadata": {},
   "outputs": [],
   "source": [
    "df=day_df\n",
    "day_df=df"
   ]
  },
  {
   "cell_type": "code",
   "execution_count": 15,
   "metadata": {},
   "outputs": [
    {
     "data": {
      "text/plain": [
       "{'whiskers': [<matplotlib.lines.Line2D at 0x232b34409b0>,\n",
       "  <matplotlib.lines.Line2D at 0x232b3440cf8>],\n",
       " 'caps': [<matplotlib.lines.Line2D at 0x232b3440dd8>,\n",
       "  <matplotlib.lines.Line2D at 0x232b34543c8>],\n",
       " 'boxes': [<matplotlib.lines.Line2D at 0x232b3440588>],\n",
       " 'medians': [<matplotlib.lines.Line2D at 0x232b3454710>],\n",
       " 'fliers': [<matplotlib.lines.Line2D at 0x232b3454a58>],\n",
       " 'means': []}"
      ]
     },
     "execution_count": 15,
     "metadata": {},
     "output_type": "execute_result"
    },
    {
     "data": {
      "image/png": "[encoded data removed]",
      "text/plain": [
       "<Figure size 432x288 with 1 Axes>"
      ]
     },
     "metadata": {
      "needs_background": "light"
     },
     "output_type": "display_data"
    }
   ],
   "source": [
    "# #Plot boxplot to visualize Outliers\n",
    "# %matplotlib inline  \n",
    "plt.boxplot(day_df['temp'])"
   ]
  },
  {
   "cell_type": "code",
   "execution_count": 16,
   "metadata": {},
   "outputs": [],
   "source": [
    "#save numeric names\n",
    "cnames= ['temp', 'atemp', 'hum', 'windspeed','cnt']"
   ]
  },
  {
   "cell_type": "code",
   "execution_count": 17,
   "metadata": {},
   "outputs": [
    {
     "name": "stdout",
     "output_type": "stream",
     "text": [
      "temp\n",
      "-0.14041600000000015\n",
      "1.1329160000000003\n",
      "atemp\n",
      "-0.06829675000000018\n",
      "1.0147412500000002\n",
      "hum\n",
      "0.20468725\n",
      "1.0455212500000002\n",
      "windspeed\n",
      "-0.012431000000000025\n",
      "0.380585\n",
      "cnt\n",
      "-1011.5\n",
      "10256.5\n"
     ]
    }
   ],
   "source": [
    "# #Detect and delete outliers from data\n",
    "for i in cnames:\n",
    "     print(i)\n",
    "     q75, q25 = np.percentile(day_df.loc[:,i], [75 ,25])\n",
    "     iqr = q75 - q25\n",
    "     min = q25 - (iqr*1.5)\n",
    "     max = q75 + (iqr*1.5)\n",
    "     print(min)\n",
    "     print(max)\n",
    "     day_df = day_df.drop(day_df[day_df.loc[:,i] < min].index)\n",
    "     day_df = day_df.drop(day_df[day_df.loc[:,i] > max].index)"
   ]
  },
  {
   "cell_type": "code",
   "execution_count": 18,
   "metadata": {},
   "outputs": [],
   "source": [
    "#Detect and replace with NA\n",
    "# #Extract quartiles\n",
    "q75, q25 = np.percentile(day_df['temp'], [75 ,25])\n",
    "\n",
    "# #Calculate IQR\n",
    "#iqr = q75 - q25\n",
    "\n",
    "# #Calculate inner and outer fence\n",
    "minimum = q25 - (iqr*1.5)\n",
    "maximum = q75 + (iqr*1.5)\n",
    "\n",
    "# #Replace with NA\n",
    "day_df.loc[day_df['temp'] < minimum,:'temp'] = np.nan\n",
    "day_df.loc[day_df['temp'] > maximum,:'temp'] = np.nan\n",
    "\n",
    "# #Calculate missing value\n",
    "missing_val = pd.DataFrame(day_df.isnull().sum())\n",
    "\n"
   ]
  },
  {
   "cell_type": "markdown",
   "metadata": {},
   "source": [
    "Feature Selection"
   ]
  },
  {
   "cell_type": "code",
   "execution_count": 20,
   "metadata": {},
   "outputs": [],
   "source": [
    "##Correlation analysis\n",
    "#Correlation plot\n",
    "df_corr = day_df.loc[:,cnames]"
   ]
  },
  {
   "cell_type": "code",
   "execution_count": 21,
   "metadata": {},
   "outputs": [
    {
     "data": {
      "text/plain": [
       "<matplotlib.axes._subplots.AxesSubplot at 0x232b34cc7f0>"
      ]
     },
     "execution_count": 21,
     "metadata": {},
     "output_type": "execute_result"
    },
    {
     "data": {
      "image/png": "[encoded data removed]",
      "text/plain": [
       "<Figure size 504x360 with 2 Axes>"
      ]
     },
     "metadata": {
      "needs_background": "light"
     },
     "output_type": "display_data"
    }
   ],
   "source": [
    "#Set the width and hieght of the plot\n",
    "f, ax = plt.subplots(figsize=(7, 5))\n",
    "\n",
    "#Generate correlation matrix\n",
    "corr = df_corr.corr()\n",
    "\n",
    "#Plot using seaborn library\n",
    "sns.heatmap(corr, mask=np.zeros_like(corr, dtype=np.bool), cmap=sns.diverging_palette(220, 10, as_cmap=True),\n",
    "            square=True, ax=ax)"
   ]
  },
  {
   "cell_type": "code",
   "execution_count": 30,
   "metadata": {},
   "outputs": [
    {
     "data": {
      "text/html": [
       "<div>\n",
       "<style scoped>\n",
       "    .dataframe tbody tr th:only-of-type {\n",
       "        vertical-align: middle;\n",
       "    }\n",
       "\n",
       "    .dataframe tbody tr th {\n",
       "        vertical-align: top;\n",
       "    }\n",
       "\n",
       "    .dataframe thead th {\n",
       "        text-align: right;\n",
       "    }\n",
       "</style>\n",
       "<table border=\"1\" class=\"dataframe\">\n",
       "  <thead>\n",
       "    <tr style=\"text-align: right;\">\n",
       "      <th></th>\n",
       "      <th>instant</th>\n",
       "      <th>season</th>\n",
       "      <th>yr</th>\n",
       "      <th>mnth</th>\n",
       "      <th>holiday</th>\n",
       "      <th>weekday</th>\n",
       "      <th>workingday</th>\n",
       "      <th>weathersit</th>\n",
       "      <th>temp</th>\n",
       "      <th>atemp</th>\n",
       "      <th>hum</th>\n",
       "      <th>windspeed</th>\n",
       "      <th>casual</th>\n",
       "      <th>registered</th>\n",
       "      <th>cnt</th>\n",
       "    </tr>\n",
       "  </thead>\n",
       "  <tbody>\n",
       "    <tr>\n",
       "      <th>instant</th>\n",
       "      <td>1.000000</td>\n",
       "      <td>0.416254</td>\n",
       "      <td>0.866956</td>\n",
       "      <td>0.495766</td>\n",
       "      <td>0.015679</td>\n",
       "      <td>-0.001252</td>\n",
       "      <td>0.004317</td>\n",
       "      <td>-0.018629</td>\n",
       "      <td>0.154410</td>\n",
       "      <td>0.157296</td>\n",
       "      <td>0.000075</td>\n",
       "      <td>-0.114289</td>\n",
       "      <td>0.275230</td>\n",
       "      <td>0.663711</td>\n",
       "      <td>0.632805</td>\n",
       "    </tr>\n",
       "    <tr>\n",
       "      <th>season</th>\n",
       "      <td>0.416254</td>\n",
       "      <td>1.000000</td>\n",
       "      <td>0.003173</td>\n",
       "      <td>0.833542</td>\n",
       "      <td>-0.013314</td>\n",
       "      <td>0.004758</td>\n",
       "      <td>0.010854</td>\n",
       "      <td>0.016822</td>\n",
       "      <td>0.327773</td>\n",
       "      <td>0.335549</td>\n",
       "      <td>0.180210</td>\n",
       "      <td>-0.206675</td>\n",
       "      <td>0.200074</td>\n",
       "      <td>0.407098</td>\n",
       "      <td>0.399284</td>\n",
       "    </tr>\n",
       "    <tr>\n",
       "      <th>yr</th>\n",
       "      <td>0.866956</td>\n",
       "      <td>0.003173</td>\n",
       "      <td>1.000000</td>\n",
       "      <td>-0.000989</td>\n",
       "      <td>0.008514</td>\n",
       "      <td>-0.006278</td>\n",
       "      <td>0.005058</td>\n",
       "      <td>-0.045205</td>\n",
       "      <td>0.054542</td>\n",
       "      <td>0.054111</td>\n",
       "      <td>-0.119064</td>\n",
       "      <td>-0.023406</td>\n",
       "      <td>0.253304</td>\n",
       "      <td>0.600166</td>\n",
       "      <td>0.573797</td>\n",
       "    </tr>\n",
       "    <tr>\n",
       "      <th>mnth</th>\n",
       "      <td>0.495766</td>\n",
       "      <td>0.833542</td>\n",
       "      <td>-0.000989</td>\n",
       "      <td>1.000000</td>\n",
       "      <td>0.017321</td>\n",
       "      <td>0.008660</td>\n",
       "      <td>-0.001724</td>\n",
       "      <td>0.042869</td>\n",
       "      <td>0.216118</td>\n",
       "      <td>0.223175</td>\n",
       "      <td>0.204967</td>\n",
       "      <td>-0.191054</td>\n",
       "      <td>0.114813</td>\n",
       "      <td>0.291477</td>\n",
       "      <td>0.275745</td>\n",
       "    </tr>\n",
       "    <tr>\n",
       "      <th>holiday</th>\n",
       "      <td>0.015679</td>\n",
       "      <td>-0.013314</td>\n",
       "      <td>0.008514</td>\n",
       "      <td>0.017321</td>\n",
       "      <td>1.000000</td>\n",
       "      <td>-0.103013</td>\n",
       "      <td>-0.256030</td>\n",
       "      <td>-0.035301</td>\n",
       "      <td>-0.030627</td>\n",
       "      <td>-0.034816</td>\n",
       "      <td>-0.021048</td>\n",
       "      <td>0.017029</td>\n",
       "      <td>0.052396</td>\n",
       "      <td>-0.112218</td>\n",
       "      <td>-0.071725</td>\n",
       "    </tr>\n",
       "    <tr>\n",
       "      <th>weekday</th>\n",
       "      <td>-0.001252</td>\n",
       "      <td>0.004758</td>\n",
       "      <td>-0.006278</td>\n",
       "      <td>0.008660</td>\n",
       "      <td>-0.103013</td>\n",
       "      <td>1.000000</td>\n",
       "      <td>0.040601</td>\n",
       "      <td>0.032335</td>\n",
       "      <td>0.001792</td>\n",
       "      <td>-0.005437</td>\n",
       "      <td>-0.043409</td>\n",
       "      <td>0.009947</td>\n",
       "      <td>0.063654</td>\n",
       "      <td>0.060989</td>\n",
       "      <td>0.071825</td>\n",
       "    </tr>\n",
       "    <tr>\n",
       "      <th>workingday</th>\n",
       "      <td>0.004317</td>\n",
       "      <td>0.010854</td>\n",
       "      <td>0.005058</td>\n",
       "      <td>-0.001724</td>\n",
       "      <td>-0.256030</td>\n",
       "      <td>0.040601</td>\n",
       "      <td>1.000000</td>\n",
       "      <td>0.058131</td>\n",
       "      <td>0.045893</td>\n",
       "      <td>0.044149</td>\n",
       "      <td>0.022666</td>\n",
       "      <td>-0.010571</td>\n",
       "      <td>-0.527081</td>\n",
       "      <td>0.303159</td>\n",
       "      <td>0.056332</td>\n",
       "    </tr>\n",
       "    <tr>\n",
       "      <th>weathersit</th>\n",
       "      <td>-0.018629</td>\n",
       "      <td>0.016822</td>\n",
       "      <td>-0.045205</td>\n",
       "      <td>0.042869</td>\n",
       "      <td>-0.035301</td>\n",
       "      <td>0.032335</td>\n",
       "      <td>0.058131</td>\n",
       "      <td>1.000000</td>\n",
       "      <td>-0.125218</td>\n",
       "      <td>-0.127307</td>\n",
       "      <td>0.624584</td>\n",
       "      <td>0.058653</td>\n",
       "      <td>-0.251684</td>\n",
       "      <td>-0.262780</td>\n",
       "      <td>-0.301418</td>\n",
       "    </tr>\n",
       "    <tr>\n",
       "      <th>temp</th>\n",
       "      <td>0.154410</td>\n",
       "      <td>0.327773</td>\n",
       "      <td>0.054542</td>\n",
       "      <td>0.216118</td>\n",
       "      <td>-0.030627</td>\n",
       "      <td>0.001792</td>\n",
       "      <td>0.045893</td>\n",
       "      <td>-0.125218</td>\n",
       "      <td>1.000000</td>\n",
       "      <td>0.991738</td>\n",
       "      <td>0.114191</td>\n",
       "      <td>-0.140169</td>\n",
       "      <td>0.539714</td>\n",
       "      <td>0.538095</td>\n",
       "      <td>0.625892</td>\n",
       "    </tr>\n",
       "    <tr>\n",
       "      <th>atemp</th>\n",
       "      <td>0.157296</td>\n",
       "      <td>0.335549</td>\n",
       "      <td>0.054111</td>\n",
       "      <td>0.223175</td>\n",
       "      <td>-0.034816</td>\n",
       "      <td>-0.005437</td>\n",
       "      <td>0.044149</td>\n",
       "      <td>-0.127307</td>\n",
       "      <td>0.991738</td>\n",
       "      <td>1.000000</td>\n",
       "      <td>0.126587</td>\n",
       "      <td>-0.166038</td>\n",
       "      <td>0.540234</td>\n",
       "      <td>0.541977</td>\n",
       "      <td>0.629204</td>\n",
       "    </tr>\n",
       "    <tr>\n",
       "      <th>hum</th>\n",
       "      <td>0.000075</td>\n",
       "      <td>0.180210</td>\n",
       "      <td>-0.119064</td>\n",
       "      <td>0.204967</td>\n",
       "      <td>-0.021048</td>\n",
       "      <td>-0.043409</td>\n",
       "      <td>0.022666</td>\n",
       "      <td>0.624584</td>\n",
       "      <td>0.114191</td>\n",
       "      <td>0.126587</td>\n",
       "      <td>1.000000</td>\n",
       "      <td>-0.204496</td>\n",
       "      <td>-0.101439</td>\n",
       "      <td>-0.124701</td>\n",
       "      <td>-0.136621</td>\n",
       "    </tr>\n",
       "    <tr>\n",
       "      <th>windspeed</th>\n",
       "      <td>-0.114289</td>\n",
       "      <td>-0.206675</td>\n",
       "      <td>-0.023406</td>\n",
       "      <td>-0.191054</td>\n",
       "      <td>0.017029</td>\n",
       "      <td>0.009947</td>\n",
       "      <td>-0.010571</td>\n",
       "      <td>0.058653</td>\n",
       "      <td>-0.140169</td>\n",
       "      <td>-0.166038</td>\n",
       "      <td>-0.204496</td>\n",
       "      <td>1.000000</td>\n",
       "      <td>-0.146178</td>\n",
       "      <td>-0.203677</td>\n",
       "      <td>-0.216193</td>\n",
       "    </tr>\n",
       "    <tr>\n",
       "      <th>casual</th>\n",
       "      <td>0.275230</td>\n",
       "      <td>0.200074</td>\n",
       "      <td>0.253304</td>\n",
       "      <td>0.114813</td>\n",
       "      <td>0.052396</td>\n",
       "      <td>0.063654</td>\n",
       "      <td>-0.527081</td>\n",
       "      <td>-0.251684</td>\n",
       "      <td>0.539714</td>\n",
       "      <td>0.540234</td>\n",
       "      <td>-0.101439</td>\n",
       "      <td>-0.146178</td>\n",
       "      <td>1.000000</td>\n",
       "      <td>0.389848</td>\n",
       "      <td>0.670547</td>\n",
       "    </tr>\n",
       "    <tr>\n",
       "      <th>registered</th>\n",
       "      <td>0.663711</td>\n",
       "      <td>0.407098</td>\n",
       "      <td>0.600166</td>\n",
       "      <td>0.291477</td>\n",
       "      <td>-0.112218</td>\n",
       "      <td>0.060989</td>\n",
       "      <td>0.303159</td>\n",
       "      <td>-0.262780</td>\n",
       "      <td>0.538095</td>\n",
       "      <td>0.541977</td>\n",
       "      <td>-0.124701</td>\n",
       "      <td>-0.203677</td>\n",
       "      <td>0.389848</td>\n",
       "      <td>1.000000</td>\n",
       "      <td>0.944581</td>\n",
       "    </tr>\n",
       "    <tr>\n",
       "      <th>cnt</th>\n",
       "      <td>0.632805</td>\n",
       "      <td>0.399284</td>\n",
       "      <td>0.573797</td>\n",
       "      <td>0.275745</td>\n",
       "      <td>-0.071725</td>\n",
       "      <td>0.071825</td>\n",
       "      <td>0.056332</td>\n",
       "      <td>-0.301418</td>\n",
       "      <td>0.625892</td>\n",
       "      <td>0.629204</td>\n",
       "      <td>-0.136621</td>\n",
       "      <td>-0.216193</td>\n",
       "      <td>0.670547</td>\n",
       "      <td>0.944581</td>\n",
       "      <td>1.000000</td>\n",
       "    </tr>\n",
       "  </tbody>\n",
       "</table>\n",
       "</div>"
      ],
      "text/plain": [
       "             instant    season        yr      mnth   holiday   weekday  \\\n",
       "instant     1.000000  0.416254  0.866956  0.495766  0.015679 -0.001252   \n",
       "season      0.416254  1.000000  0.003173  0.833542 -0.013314  0.004758   \n",
       "yr          0.866956  0.003173  1.000000 -0.000989  0.008514 -0.006278   \n",
       "mnth        0.495766  0.833542 -0.000989  1.000000  0.017321  0.008660   \n",
       "holiday     0.015679 -0.013314  0.008514  0.017321  1.000000 -0.103013   \n",
       "weekday    -0.001252  0.004758 -0.006278  0.008660 -0.103013  1.000000   \n",
       "workingday  0.004317  0.010854  0.005058 -0.001724 -0.256030  0.040601   \n",
       "weathersit -0.018629  0.016822 -0.045205  0.042869 -0.035301  0.032335   \n",
       "temp        0.154410  0.327773  0.054542  0.216118 -0.030627  0.001792   \n",
       "atemp       0.157296  0.335549  0.054111  0.223175 -0.034816 -0.005437   \n",
       "hum         0.000075  0.180210 -0.119064  0.204967 -0.021048 -0.043409   \n",
       "windspeed  -0.114289 -0.206675 -0.023406 -0.191054  0.017029  0.009947   \n",
       "casual      0.275230  0.200074  0.253304  0.114813  0.052396  0.063654   \n",
       "registered  0.663711  0.407098  0.600166  0.291477 -0.112218  0.060989   \n",
       "cnt         0.632805  0.399284  0.573797  0.275745 -0.071725  0.071825   \n",
       "\n",
       "            workingday  weathersit      temp     atemp       hum  windspeed  \\\n",
       "instant       0.004317   -0.018629  0.154410  0.157296  0.000075  -0.114289   \n",
       "season        0.010854    0.016822  0.327773  0.335549  0.180210  -0.206675   \n",
       "yr            0.005058   -0.045205  0.054542  0.054111 -0.119064  -0.023406   \n",
       "mnth         -0.001724    0.042869  0.216118  0.223175  0.204967  -0.191054   \n",
       "holiday      -0.256030   -0.035301 -0.030627 -0.034816 -0.021048   0.017029   \n",
       "weekday       0.040601    0.032335  0.001792 -0.005437 -0.043409   0.009947   \n",
       "workingday    1.000000    0.058131  0.045893  0.044149  0.022666  -0.010571   \n",
       "weathersit    0.058131    1.000000 -0.125218 -0.127307  0.624584   0.058653   \n",
       "temp          0.045893   -0.125218  1.000000  0.991738  0.114191  -0.140169   \n",
       "atemp         0.044149   -0.127307  0.991738  1.000000  0.126587  -0.166038   \n",
       "hum           0.022666    0.624584  0.114191  0.126587  1.000000  -0.204496   \n",
       "windspeed    -0.010571    0.058653 -0.140169 -0.166038 -0.204496   1.000000   \n",
       "casual       -0.527081   -0.251684  0.539714  0.540234 -0.101439  -0.146178   \n",
       "registered    0.303159   -0.262780  0.538095  0.541977 -0.124701  -0.203677   \n",
       "cnt           0.056332   -0.301418  0.625892  0.629204 -0.136621  -0.216193   \n",
       "\n",
       "              casual  registered       cnt  \n",
       "instant     0.275230    0.663711  0.632805  \n",
       "season      0.200074    0.407098  0.399284  \n",
       "yr          0.253304    0.600166  0.573797  \n",
       "mnth        0.114813    0.291477  0.275745  \n",
       "holiday     0.052396   -0.112218 -0.071725  \n",
       "weekday     0.063654    0.060989  0.071825  \n",
       "workingday -0.527081    0.303159  0.056332  \n",
       "weathersit -0.251684   -0.262780 -0.301418  \n",
       "temp        0.539714    0.538095  0.625892  \n",
       "atemp       0.540234    0.541977  0.629204  \n",
       "hum        -0.101439   -0.124701 -0.136621  \n",
       "windspeed  -0.146178   -0.203677 -0.216193  \n",
       "casual      1.000000    0.389848  0.670547  \n",
       "registered  0.389848    1.000000  0.944581  \n",
       "cnt         0.670547    0.944581  1.000000  "
      ]
     },
     "execution_count": 30,
     "metadata": {},
     "output_type": "execute_result"
    }
   ],
   "source": [
    "day_df.corr()"
   ]
  },
  {
   "cell_type": "code",
   "execution_count": 22,
   "metadata": {},
   "outputs": [],
   "source": [
    "#Chisquare test of independence\n",
    "#Save categorical variables\n",
    "cat_names = ['season', 'holiday', 'mnth', 'weekday', 'workingday', 'weathersit']"
   ]
  },
  {
   "cell_type": "code",
   "execution_count": 23,
   "metadata": {},
   "outputs": [],
   "source": [
    "from scipy.stats import chi2_contingency"
   ]
  },
  {
   "cell_type": "code",
   "execution_count": 24,
   "metadata": {},
   "outputs": [
    {
     "name": "stdout",
     "output_type": "stream",
     "text": [
      "season\n",
      "4.315570887979698e-05\n",
      "holiday\n",
      "0.21343418010240936\n",
      "mnth\n",
      "0.00012805631695426737\n",
      "weekday\n",
      "0.5333494444007716\n",
      "workingday\n",
      "0.7152546016917956\n",
      "weathersit\n",
      "0.05640620552827349\n"
     ]
    }
   ],
   "source": [
    "#loop for chi square values\n",
    "for i in cat_names:\n",
    "    print(i)\n",
    "    chi2, p, dof, ex = chi2_contingency(pd.crosstab(day_df['temp'], day_df[i]))\n",
    "    print(p)"
   ]
  },
  {
   "cell_type": "markdown",
   "metadata": {},
   "source": [
    "Feature Scaling"
   ]
  },
  {
   "cell_type": "code",
   "execution_count": 25,
   "metadata": {},
   "outputs": [],
   "source": [
    "df = day_df.copy()\n",
    "day_df = df.copy()"
   ]
  },
  {
   "cell_type": "code",
   "execution_count": 26,
   "metadata": {},
   "outputs": [
    {
     "data": {
      "text/plain": [
       "(array([ 3.,  8.,  9., 28., 46., 83., 70., 83., 80., 81., 77., 51., 42.,\n",
       "        28., 20.,  8.]),\n",
       " array([0.254167  , 0.29906281, 0.34395863, 0.38885444, 0.43375025,\n",
       "        0.47864606, 0.52354188, 0.56843769, 0.6133335 , 0.65822931,\n",
       "        0.70312513, 0.74802094, 0.79291675, 0.83781256, 0.88270837,\n",
       "        0.92760419, 0.9725    ]),\n",
       " <a list of 16 Patch objects>)"
      ]
     },
     "execution_count": 26,
     "metadata": {},
     "output_type": "execute_result"
    },
    {
     "data": {
      "image/png": "[encoded data removed]",
      "text/plain": [
       "<Figure size 432x288 with 1 Axes>"
      ]
     },
     "metadata": {
      "needs_background": "light"
     },
     "output_type": "display_data"
    }
   ],
   "source": [
    "#Normality check\n",
    "%matplotlib inline  \n",
    "plt.hist(day_df['hum'], bins='auto')"
   ]
  },
  {
   "cell_type": "code",
   "execution_count": 28,
   "metadata": {},
   "outputs": [
    {
     "data": {
      "text/plain": [
       "(array([ 12.,  59.,  69.,  70., 121., 135.,  79.,  76.,  79.,  17.]),\n",
       " array([  22. ,  891.2, 1760.4, 2629.6, 3498.8, 4368. , 5237.2, 6106.4,\n",
       "        6975.6, 7844.8, 8714. ]),\n",
       " <a list of 10 Patch objects>)"
      ]
     },
     "execution_count": 28,
     "metadata": {},
     "output_type": "execute_result"
    },
    {
     "data": {
      "image/png": "[encoded data removed]",
      "text/plain": [
       "<Figure size 432x288 with 1 Axes>"
      ]
     },
     "metadata": {
      "needs_background": "light"
     },
     "output_type": "display_data"
    }
   ],
   "source": [
    "plt.hist(day_df['cnt'])"
   ]
  },
  {
   "cell_type": "code",
   "execution_count": 29,
   "metadata": {},
   "outputs": [
    {
     "data": {
      "text/plain": [
       "count     717.000000\n",
       "mean     4532.843794\n",
       "std      1933.542429\n",
       "min        22.000000\n",
       "25%      3214.000000\n",
       "50%      4570.000000\n",
       "75%      6031.000000\n",
       "max      8714.000000\n",
       "Name: cnt, dtype: float64"
      ]
     },
     "execution_count": 29,
     "metadata": {},
     "output_type": "execute_result"
    }
   ],
   "source": [
    "day_df['cnt'].describe()"
   ]
  },
  {
   "cell_type": "code",
   "execution_count": 32,
   "metadata": {},
   "outputs": [
    {
     "name": "stderr",
     "output_type": "stream",
     "text": [
      "C:\\Users\\Himachala Venkata\\Anaconda3\\lib\\site-packages\\scipy\\stats\\stats.py:1713: FutureWarning: Using a non-tuple sequence for multidimensional indexing is deprecated; use `arr[tuple(seq)]` instead of `arr[seq]`. In the future this will be interpreted as an array index, `arr[np.array(seq)]`, which will result either in an error or a different result.\n",
      "  return np.add.reduce(sorted[indexer] * weights, axis=axis) / sumval\n"
     ]
    },
    {
     "data": {
      "text/plain": [
       "<matplotlib.axes._subplots.AxesSubplot at 0x232b37eaa20>"
      ]
     },
     "execution_count": 32,
     "metadata": {},
     "output_type": "execute_result"
    },
    {
     "data": {
      "image/png": "[encoded data removed]",
      "text/plain": [
       "<Figure size 432x288 with 1 Axes>"
      ]
     },
     "metadata": {},
     "output_type": "display_data"
    }
   ],
   "source": [
    "sns.set(color_codes=\"True\")\n",
    "sns.distplot(day_df[\"cnt\"])"
   ]
  },
  {
   "cell_type": "code",
   "execution_count": 34,
   "metadata": {},
   "outputs": [],
   "source": [
    "train = day_df.sample(frac=.8)\n",
    "test = day_df.loc[~day_df.index.isin(train.index)]"
   ]
  },
  {
   "cell_type": "markdown",
   "metadata": {},
   "source": [
    "Linear Regression"
   ]
  },
  {
   "cell_type": "code",
   "execution_count": 35,
   "metadata": {},
   "outputs": [
    {
     "data": {
      "text/plain": [
       "LinearRegression(copy_X=True, fit_intercept=True, n_jobs=None,\n",
       "         normalize=False)"
      ]
     },
     "execution_count": 35,
     "metadata": {},
     "output_type": "execute_result"
    }
   ],
   "source": [
    "from sklearn.linear_model import LinearRegression\n",
    "predictors = list(train.columns)\n",
    "predictors.remove(\"cnt\")\n",
    "predictors.remove(\"casual\")\n",
    "predictors.remove(\"registered\")\n",
    "predictors.remove(\"dteday\")\n",
    "\n",
    "lr = LinearRegression()\n",
    "\n",
    "lr.fit(train[predictors], train[\"cnt\"])"
   ]
  },
  {
   "cell_type": "code",
   "execution_count": 36,
   "metadata": {},
   "outputs": [
    {
     "name": "stdout",
     "output_type": "stream",
     "text": [
      "922148.9633124338\n"
     ]
    }
   ],
   "source": [
    "predictions = lr.predict(test[predictors])\n",
    "\n",
    "mse = np.mean((predictions - test[\"cnt\"]) ** 2)\n",
    "print(mse)"
   ]
  },
  {
   "cell_type": "code",
   "execution_count": 37,
   "metadata": {},
   "outputs": [
    {
     "name": "stdout",
     "output_type": "stream",
     "text": [
      "0       985\n",
      "5      1606\n",
      "11     1162\n",
      "25      506\n",
      "39     1605\n",
      "51     1107\n",
      "52     1450\n",
      "62     1944\n",
      "67     1891\n",
      "77     3117\n",
      "81     2121\n",
      "85     1693\n",
      "89     1685\n",
      "98     2455\n",
      "99     2895\n",
      "104    3126\n",
      "108    3204\n",
      "110    4189\n",
      "113    4191\n",
      "120    3351\n",
      "122    4451\n",
      "126    4714\n",
      "128    4362\n",
      "132    4105\n",
      "133    3409\n",
      "140    5805\n",
      "141    4660\n",
      "146    4679\n",
      "153    5312\n",
      "159    3915\n",
      "       ... \n",
      "562    6830\n",
      "563    6786\n",
      "564    5713\n",
      "567    4459\n",
      "568    7410\n",
      "569    6966\n",
      "572    6861\n",
      "573    6904\n",
      "580    7175\n",
      "585    7534\n",
      "586    7286\n",
      "606    7697\n",
      "621    7804\n",
      "624    7333\n",
      "625    6869\n",
      "634    7733\n",
      "637    8555\n",
      "638    6889\n",
      "644    7965\n",
      "655    7461\n",
      "659    6824\n",
      "660    7058\n",
      "665    7852\n",
      "668    1096\n",
      "670    5986\n",
      "677    5315\n",
      "678    5992\n",
      "710    5501\n",
      "722    1787\n",
      "730    2729\n",
      "Name: cnt, Length: 143, dtype: int64\n"
     ]
    }
   ],
   "source": [
    "print(test[\"cnt\"])"
   ]
  },
  {
   "cell_type": "markdown",
   "metadata": {},
   "source": [
    "Decision Tree"
   ]
  },
  {
   "cell_type": "markdown",
   "metadata": {},
   "source": [
    "#for no. of leafs = 5"
   ]
  },
  {
   "cell_type": "code",
   "execution_count": 38,
   "metadata": {},
   "outputs": [
    {
     "data": {
      "text/plain": [
       "DecisionTreeRegressor(criterion='mse', max_depth=None, max_features=None,\n",
       "           max_leaf_nodes=None, min_impurity_decrease=0.0,\n",
       "           min_impurity_split=None, min_samples_leaf=5,\n",
       "           min_samples_split=2, min_weight_fraction_leaf=0.0,\n",
       "           presort=False, random_state=None, splitter='best')"
      ]
     },
     "execution_count": 38,
     "metadata": {},
     "output_type": "execute_result"
    }
   ],
   "source": [
    "from sklearn.tree import DecisionTreeRegressor\n",
    "dt = DecisionTreeRegressor(min_samples_leaf=5)\n",
    "dt.fit(train[predictors], train[\"cnt\"])"
   ]
  },
  {
   "cell_type": "code",
   "execution_count": 39,
   "metadata": {},
   "outputs": [
    {
     "data": {
      "text/plain": [
       "614927.365592092"
      ]
     },
     "execution_count": 39,
     "metadata": {},
     "output_type": "execute_result"
    }
   ],
   "source": [
    "predictions = dt.predict(test[predictors])\n",
    "np.mean((predictions - test[\"cnt\"]) ** 2)"
   ]
  },
  {
   "cell_type": "markdown",
   "metadata": {},
   "source": [
    "#for no.of leafs = 2"
   ]
  },
  {
   "cell_type": "code",
   "execution_count": 40,
   "metadata": {},
   "outputs": [
    {
     "data": {
      "text/plain": [
       "DecisionTreeRegressor(criterion='mse', max_depth=None, max_features=None,\n",
       "           max_leaf_nodes=None, min_impurity_decrease=0.0,\n",
       "           min_impurity_split=None, min_samples_leaf=2,\n",
       "           min_samples_split=2, min_weight_fraction_leaf=0.0,\n",
       "           presort=False, random_state=None, splitter='best')"
      ]
     },
     "execution_count": 40,
     "metadata": {},
     "output_type": "execute_result"
    }
   ],
   "source": [
    "dt = DecisionTreeRegressor(min_samples_leaf=2)\n",
    "dt.fit(train[predictors], train[\"cnt\"])"
   ]
  },
  {
   "cell_type": "code",
   "execution_count": 41,
   "metadata": {},
   "outputs": [
    {
     "data": {
      "text/plain": [
       "814263.0835275834"
      ]
     },
     "execution_count": 41,
     "metadata": {},
     "output_type": "execute_result"
    }
   ],
   "source": [
    "predictions = dt.predict(test[predictors])\n",
    "np.mean((predictions - test[\"cnt\"]) ** 2)"
   ]
  },
  {
   "cell_type": "markdown",
   "metadata": {},
   "source": [
    "Random Forest"
   ]
  },
  {
   "cell_type": "code",
   "execution_count": 42,
   "metadata": {},
   "outputs": [
    {
     "name": "stderr",
     "output_type": "stream",
     "text": [
      "C:\\Users\\Himachala Venkata\\Anaconda3\\lib\\site-packages\\sklearn\\ensemble\\forest.py:246: FutureWarning: The default value of n_estimators will change from 10 in version 0.20 to 100 in 0.22.\n",
      "  \"10 in version 0.20 to 100 in 0.22.\", FutureWarning)\n"
     ]
    },
    {
     "data": {
      "text/plain": [
       "RandomForestRegressor(bootstrap=True, criterion='mse', max_depth=None,\n",
       "           max_features='auto', max_leaf_nodes=None,\n",
       "           min_impurity_decrease=0.0, min_impurity_split=None,\n",
       "           min_samples_leaf=2, min_samples_split=2,\n",
       "           min_weight_fraction_leaf=0.0, n_estimators=10, n_jobs=None,\n",
       "           oob_score=False, random_state=None, verbose=0, warm_start=False)"
      ]
     },
     "execution_count": 42,
     "metadata": {},
     "output_type": "execute_result"
    }
   ],
   "source": [
    "from sklearn.ensemble import RandomForestRegressor\n",
    "\n",
    "rf = RandomForestRegressor(min_samples_leaf=2)\n",
    "rf.fit(train[predictors], train[\"cnt\"])"
   ]
  },
  {
   "cell_type": "code",
   "execution_count": 43,
   "metadata": {},
   "outputs": [
    {
     "data": {
      "text/plain": [
       "437690.7193734511"
      ]
     },
     "execution_count": 43,
     "metadata": {},
     "output_type": "execute_result"
    }
   ],
   "source": [
    "predictions = rf.predict(test[predictors])\n",
    "np.mean((predictions - test[\"cnt\"]) ** 2)"
   ]
  },
  {
   "cell_type": "markdown",
   "metadata": {},
   "source": [
    "Contigency Table\n",
    "#showing correlation between working day and holiday"
   ]
  },
  {
   "cell_type": "code",
   "execution_count": 44,
   "metadata": {},
   "outputs": [],
   "source": [
    "day_crosstab = pd.crosstab(day_df['weekday'], day_df['holiday'],margins = False) "
   ]
  },
  {
   "cell_type": "code",
   "execution_count": 45,
   "metadata": {},
   "outputs": [
    {
     "data": {
      "text/html": [
       "<div>\n",
       "<style scoped>\n",
       "    .dataframe tbody tr th:only-of-type {\n",
       "        vertical-align: middle;\n",
       "    }\n",
       "\n",
       "    .dataframe tbody tr th {\n",
       "        vertical-align: top;\n",
       "    }\n",
       "\n",
       "    .dataframe thead th {\n",
       "        text-align: right;\n",
       "    }\n",
       "</style>\n",
       "<table border=\"1\" class=\"dataframe\">\n",
       "  <thead>\n",
       "    <tr style=\"text-align: right;\">\n",
       "      <th>holiday</th>\n",
       "      <th>0.0</th>\n",
       "      <th>1.0</th>\n",
       "    </tr>\n",
       "    <tr>\n",
       "      <th>weekday</th>\n",
       "      <th></th>\n",
       "      <th></th>\n",
       "    </tr>\n",
       "  </thead>\n",
       "  <tbody>\n",
       "    <tr>\n",
       "      <th>0.0</th>\n",
       "      <td>103</td>\n",
       "      <td>0</td>\n",
       "    </tr>\n",
       "    <tr>\n",
       "      <th>1.0</th>\n",
       "      <td>87</td>\n",
       "      <td>15</td>\n",
       "    </tr>\n",
       "    <tr>\n",
       "      <th>2.0</th>\n",
       "      <td>102</td>\n",
       "      <td>1</td>\n",
       "    </tr>\n",
       "    <tr>\n",
       "      <th>3.0</th>\n",
       "      <td>102</td>\n",
       "      <td>1</td>\n",
       "    </tr>\n",
       "    <tr>\n",
       "      <th>4.0</th>\n",
       "      <td>99</td>\n",
       "      <td>2</td>\n",
       "    </tr>\n",
       "    <tr>\n",
       "      <th>5.0</th>\n",
       "      <td>101</td>\n",
       "      <td>2</td>\n",
       "    </tr>\n",
       "    <tr>\n",
       "      <th>6.0</th>\n",
       "      <td>102</td>\n",
       "      <td>0</td>\n",
       "    </tr>\n",
       "  </tbody>\n",
       "</table>\n",
       "</div>"
      ],
      "text/plain": [
       "holiday  0.0  1.0\n",
       "weekday          \n",
       "0.0      103    0\n",
       "1.0       87   15\n",
       "2.0      102    1\n",
       "3.0      102    1\n",
       "4.0       99    2\n",
       "5.0      101    2\n",
       "6.0      102    0"
      ]
     },
     "execution_count": 45,
     "metadata": {},
     "output_type": "execute_result"
    }
   ],
   "source": [
    "day_crosstab"
   ]
  },
  {
   "cell_type": "markdown",
   "metadata": {},
   "source": [
    "Cluster Analysis"
   ]
  },
  {
   "cell_type": "code",
   "execution_count": 3,
   "metadata": {},
   "outputs": [],
   "source": [
    "#load data\n",
    "df=pd.read_csv(r'C:\\Users\\Himachala Venkata\\Desktop\\edwisor\\Projects\\Bike rentals\\day (1).csv')"
   ]
  },
  {
   "cell_type": "code",
   "execution_count": 4,
   "metadata": {},
   "outputs": [],
   "source": [
    "#Load required libraries\n",
    "from sklearn.cluster import KMeans\n",
    "\n",
    "#Estimate optimum number of clusters\n",
    "cluster_range = range( 1, 20 )\n",
    "cluster_errors = []\n",
    "\n",
    "for num_clusters in cluster_range:\n",
    "    clusters = KMeans(num_clusters).fit(df.iloc[:,3:7])\n",
    "    cluster_errors.append(clusters.inertia_)\n",
    "    \n",
    "#Create dataframe with cluster errors\n",
    "clusters_df = pd.DataFrame( { \"num_clusters\":cluster_range, \"cluster_errors\": cluster_errors } )"
   ]
  },
  {
   "cell_type": "code",
   "execution_count": 5,
   "metadata": {},
   "outputs": [
    {
     "data": {
      "text/plain": [
       "[<matplotlib.lines.Line2D at 0x2bdcbd736a0>]"
      ]
     },
     "execution_count": 5,
     "metadata": {},
     "output_type": "execute_result"
    },
    {
     "data": {
      "image/png": "[encoded data removed]",
      "text/plain": [
       "<Figure size 864x432 with 1 Axes>"
      ]
     },
     "metadata": {
      "needs_background": "light"
     },
     "output_type": "display_data"
    }
   ],
   "source": [
    "import matplotlib.pyplot as plt\n",
    "#Plot line chart to visualise number of clusters\n",
    "%matplotlib inline  \n",
    "plt.figure(figsize=(12,6))\n",
    "plt.plot( clusters_df.num_clusters, clusters_df.cluster_errors, marker = \"o\" )"
   ]
  },
  {
   "cell_type": "code",
   "execution_count": 6,
   "metadata": {},
   "outputs": [
    {
     "data": {
      "text/plain": [
       "KMeans(algorithm='auto', copy_x=True, init='k-means++', max_iter=300,\n",
       "    n_clusters=3, n_init=10, n_jobs=None, precompute_distances='auto',\n",
       "    random_state=None, tol=0.0001, verbose=0)"
      ]
     },
     "execution_count": 6,
     "metadata": {},
     "output_type": "execute_result"
    }
   ],
   "source": [
    "#Implement kmeans\n",
    "kmeans_model = KMeans(n_clusters = 3).fit(df.iloc[:,3:7])\n",
    "kmeans_model"
   ]
  },
  {
   "cell_type": "code",
   "execution_count": 8,
   "metadata": {},
   "outputs": [
    {
     "data": {
      "text/html": [
       "<div>\n",
       "<style scoped>\n",
       "    .dataframe tbody tr th:only-of-type {\n",
       "        vertical-align: middle;\n",
       "    }\n",
       "\n",
       "    .dataframe tbody tr th {\n",
       "        vertical-align: top;\n",
       "    }\n",
       "\n",
       "    .dataframe thead th {\n",
       "        text-align: right;\n",
       "    }\n",
       "</style>\n",
       "<table border=\"1\" class=\"dataframe\">\n",
       "  <thead>\n",
       "    <tr style=\"text-align: right;\">\n",
       "      <th>col_0</th>\n",
       "      <th>0</th>\n",
       "      <th>1</th>\n",
       "      <th>2</th>\n",
       "    </tr>\n",
       "    <tr>\n",
       "      <th>cnt</th>\n",
       "      <th></th>\n",
       "      <th></th>\n",
       "      <th></th>\n",
       "    </tr>\n",
       "  </thead>\n",
       "  <tbody>\n",
       "    <tr>\n",
       "      <th>22</th>\n",
       "      <td>1</td>\n",
       "      <td>0</td>\n",
       "      <td>0</td>\n",
       "    </tr>\n",
       "    <tr>\n",
       "      <th>431</th>\n",
       "      <td>0</td>\n",
       "      <td>1</td>\n",
       "      <td>0</td>\n",
       "    </tr>\n",
       "    <tr>\n",
       "      <th>441</th>\n",
       "      <td>1</td>\n",
       "      <td>0</td>\n",
       "      <td>0</td>\n",
       "    </tr>\n",
       "    <tr>\n",
       "      <th>506</th>\n",
       "      <td>0</td>\n",
       "      <td>1</td>\n",
       "      <td>0</td>\n",
       "    </tr>\n",
       "    <tr>\n",
       "      <th>605</th>\n",
       "      <td>0</td>\n",
       "      <td>1</td>\n",
       "      <td>0</td>\n",
       "    </tr>\n",
       "    <tr>\n",
       "      <th>623</th>\n",
       "      <td>0</td>\n",
       "      <td>1</td>\n",
       "      <td>0</td>\n",
       "    </tr>\n",
       "    <tr>\n",
       "      <th>627</th>\n",
       "      <td>1</td>\n",
       "      <td>0</td>\n",
       "      <td>0</td>\n",
       "    </tr>\n",
       "    <tr>\n",
       "      <th>683</th>\n",
       "      <td>0</td>\n",
       "      <td>1</td>\n",
       "      <td>0</td>\n",
       "    </tr>\n",
       "    <tr>\n",
       "      <th>705</th>\n",
       "      <td>1</td>\n",
       "      <td>0</td>\n",
       "      <td>0</td>\n",
       "    </tr>\n",
       "    <tr>\n",
       "      <th>754</th>\n",
       "      <td>1</td>\n",
       "      <td>0</td>\n",
       "      <td>0</td>\n",
       "    </tr>\n",
       "    <tr>\n",
       "      <th>795</th>\n",
       "      <td>0</td>\n",
       "      <td>1</td>\n",
       "      <td>0</td>\n",
       "    </tr>\n",
       "    <tr>\n",
       "      <th>801</th>\n",
       "      <td>0</td>\n",
       "      <td>1</td>\n",
       "      <td>0</td>\n",
       "    </tr>\n",
       "    <tr>\n",
       "      <th>822</th>\n",
       "      <td>0</td>\n",
       "      <td>1</td>\n",
       "      <td>0</td>\n",
       "    </tr>\n",
       "    <tr>\n",
       "      <th>920</th>\n",
       "      <td>1</td>\n",
       "      <td>0</td>\n",
       "      <td>0</td>\n",
       "    </tr>\n",
       "    <tr>\n",
       "      <th>959</th>\n",
       "      <td>0</td>\n",
       "      <td>1</td>\n",
       "      <td>0</td>\n",
       "    </tr>\n",
       "    <tr>\n",
       "      <th>981</th>\n",
       "      <td>0</td>\n",
       "      <td>1</td>\n",
       "      <td>0</td>\n",
       "    </tr>\n",
       "    <tr>\n",
       "      <th>985</th>\n",
       "      <td>0</td>\n",
       "      <td>1</td>\n",
       "      <td>0</td>\n",
       "    </tr>\n",
       "    <tr>\n",
       "      <th>986</th>\n",
       "      <td>0</td>\n",
       "      <td>1</td>\n",
       "      <td>0</td>\n",
       "    </tr>\n",
       "    <tr>\n",
       "      <th>1000</th>\n",
       "      <td>0</td>\n",
       "      <td>1</td>\n",
       "      <td>0</td>\n",
       "    </tr>\n",
       "    <tr>\n",
       "      <th>1005</th>\n",
       "      <td>0</td>\n",
       "      <td>1</td>\n",
       "      <td>0</td>\n",
       "    </tr>\n",
       "    <tr>\n",
       "      <th>1011</th>\n",
       "      <td>1</td>\n",
       "      <td>0</td>\n",
       "      <td>0</td>\n",
       "    </tr>\n",
       "    <tr>\n",
       "      <th>1013</th>\n",
       "      <td>1</td>\n",
       "      <td>0</td>\n",
       "      <td>0</td>\n",
       "    </tr>\n",
       "    <tr>\n",
       "      <th>1027</th>\n",
       "      <td>0</td>\n",
       "      <td>1</td>\n",
       "      <td>0</td>\n",
       "    </tr>\n",
       "    <tr>\n",
       "      <th>1096</th>\n",
       "      <td>1</td>\n",
       "      <td>1</td>\n",
       "      <td>0</td>\n",
       "    </tr>\n",
       "    <tr>\n",
       "      <th>1098</th>\n",
       "      <td>0</td>\n",
       "      <td>1</td>\n",
       "      <td>0</td>\n",
       "    </tr>\n",
       "    <tr>\n",
       "      <th>1107</th>\n",
       "      <td>0</td>\n",
       "      <td>1</td>\n",
       "      <td>0</td>\n",
       "    </tr>\n",
       "    <tr>\n",
       "      <th>1115</th>\n",
       "      <td>0</td>\n",
       "      <td>0</td>\n",
       "      <td>1</td>\n",
       "    </tr>\n",
       "    <tr>\n",
       "      <th>1162</th>\n",
       "      <td>1</td>\n",
       "      <td>1</td>\n",
       "      <td>0</td>\n",
       "    </tr>\n",
       "    <tr>\n",
       "      <th>1167</th>\n",
       "      <td>0</td>\n",
       "      <td>1</td>\n",
       "      <td>0</td>\n",
       "    </tr>\n",
       "    <tr>\n",
       "      <th>1204</th>\n",
       "      <td>0</td>\n",
       "      <td>1</td>\n",
       "      <td>0</td>\n",
       "    </tr>\n",
       "    <tr>\n",
       "      <th>...</th>\n",
       "      <td>...</td>\n",
       "      <td>...</td>\n",
       "      <td>...</td>\n",
       "    </tr>\n",
       "    <tr>\n",
       "      <th>7665</th>\n",
       "      <td>0</td>\n",
       "      <td>0</td>\n",
       "      <td>1</td>\n",
       "    </tr>\n",
       "    <tr>\n",
       "      <th>7691</th>\n",
       "      <td>1</td>\n",
       "      <td>0</td>\n",
       "      <td>0</td>\n",
       "    </tr>\n",
       "    <tr>\n",
       "      <th>7693</th>\n",
       "      <td>1</td>\n",
       "      <td>0</td>\n",
       "      <td>0</td>\n",
       "    </tr>\n",
       "    <tr>\n",
       "      <th>7697</th>\n",
       "      <td>0</td>\n",
       "      <td>0</td>\n",
       "      <td>1</td>\n",
       "    </tr>\n",
       "    <tr>\n",
       "      <th>7702</th>\n",
       "      <td>0</td>\n",
       "      <td>0</td>\n",
       "      <td>1</td>\n",
       "    </tr>\n",
       "    <tr>\n",
       "      <th>7713</th>\n",
       "      <td>0</td>\n",
       "      <td>0</td>\n",
       "      <td>1</td>\n",
       "    </tr>\n",
       "    <tr>\n",
       "      <th>7720</th>\n",
       "      <td>1</td>\n",
       "      <td>0</td>\n",
       "      <td>0</td>\n",
       "    </tr>\n",
       "    <tr>\n",
       "      <th>7733</th>\n",
       "      <td>1</td>\n",
       "      <td>0</td>\n",
       "      <td>0</td>\n",
       "    </tr>\n",
       "    <tr>\n",
       "      <th>7736</th>\n",
       "      <td>0</td>\n",
       "      <td>0</td>\n",
       "      <td>1</td>\n",
       "    </tr>\n",
       "    <tr>\n",
       "      <th>7765</th>\n",
       "      <td>0</td>\n",
       "      <td>0</td>\n",
       "      <td>1</td>\n",
       "    </tr>\n",
       "    <tr>\n",
       "      <th>7767</th>\n",
       "      <td>1</td>\n",
       "      <td>0</td>\n",
       "      <td>0</td>\n",
       "    </tr>\n",
       "    <tr>\n",
       "      <th>7804</th>\n",
       "      <td>1</td>\n",
       "      <td>0</td>\n",
       "      <td>0</td>\n",
       "    </tr>\n",
       "    <tr>\n",
       "      <th>7836</th>\n",
       "      <td>0</td>\n",
       "      <td>1</td>\n",
       "      <td>0</td>\n",
       "    </tr>\n",
       "    <tr>\n",
       "      <th>7852</th>\n",
       "      <td>1</td>\n",
       "      <td>0</td>\n",
       "      <td>0</td>\n",
       "    </tr>\n",
       "    <tr>\n",
       "      <th>7865</th>\n",
       "      <td>0</td>\n",
       "      <td>0</td>\n",
       "      <td>1</td>\n",
       "    </tr>\n",
       "    <tr>\n",
       "      <th>7870</th>\n",
       "      <td>1</td>\n",
       "      <td>0</td>\n",
       "      <td>0</td>\n",
       "    </tr>\n",
       "    <tr>\n",
       "      <th>7907</th>\n",
       "      <td>1</td>\n",
       "      <td>0</td>\n",
       "      <td>0</td>\n",
       "    </tr>\n",
       "    <tr>\n",
       "      <th>7965</th>\n",
       "      <td>1</td>\n",
       "      <td>0</td>\n",
       "      <td>0</td>\n",
       "    </tr>\n",
       "    <tr>\n",
       "      <th>8009</th>\n",
       "      <td>1</td>\n",
       "      <td>0</td>\n",
       "      <td>0</td>\n",
       "    </tr>\n",
       "    <tr>\n",
       "      <th>8090</th>\n",
       "      <td>1</td>\n",
       "      <td>0</td>\n",
       "      <td>0</td>\n",
       "    </tr>\n",
       "    <tr>\n",
       "      <th>8120</th>\n",
       "      <td>0</td>\n",
       "      <td>0</td>\n",
       "      <td>1</td>\n",
       "    </tr>\n",
       "    <tr>\n",
       "      <th>8156</th>\n",
       "      <td>1</td>\n",
       "      <td>0</td>\n",
       "      <td>0</td>\n",
       "    </tr>\n",
       "    <tr>\n",
       "      <th>8167</th>\n",
       "      <td>1</td>\n",
       "      <td>0</td>\n",
       "      <td>0</td>\n",
       "    </tr>\n",
       "    <tr>\n",
       "      <th>8173</th>\n",
       "      <td>0</td>\n",
       "      <td>0</td>\n",
       "      <td>1</td>\n",
       "    </tr>\n",
       "    <tr>\n",
       "      <th>8227</th>\n",
       "      <td>1</td>\n",
       "      <td>0</td>\n",
       "      <td>0</td>\n",
       "    </tr>\n",
       "    <tr>\n",
       "      <th>8294</th>\n",
       "      <td>0</td>\n",
       "      <td>0</td>\n",
       "      <td>1</td>\n",
       "    </tr>\n",
       "    <tr>\n",
       "      <th>8362</th>\n",
       "      <td>0</td>\n",
       "      <td>1</td>\n",
       "      <td>0</td>\n",
       "    </tr>\n",
       "    <tr>\n",
       "      <th>8395</th>\n",
       "      <td>1</td>\n",
       "      <td>0</td>\n",
       "      <td>0</td>\n",
       "    </tr>\n",
       "    <tr>\n",
       "      <th>8555</th>\n",
       "      <td>1</td>\n",
       "      <td>0</td>\n",
       "      <td>0</td>\n",
       "    </tr>\n",
       "    <tr>\n",
       "      <th>8714</th>\n",
       "      <td>1</td>\n",
       "      <td>0</td>\n",
       "      <td>0</td>\n",
       "    </tr>\n",
       "  </tbody>\n",
       "</table>\n",
       "<p>696 rows × 3 columns</p>\n",
       "</div>"
      ],
      "text/plain": [
       "col_0  0  1  2\n",
       "cnt           \n",
       "22     1  0  0\n",
       "431    0  1  0\n",
       "441    1  0  0\n",
       "506    0  1  0\n",
       "605    0  1  0\n",
       "623    0  1  0\n",
       "627    1  0  0\n",
       "683    0  1  0\n",
       "705    1  0  0\n",
       "754    1  0  0\n",
       "795    0  1  0\n",
       "801    0  1  0\n",
       "822    0  1  0\n",
       "920    1  0  0\n",
       "959    0  1  0\n",
       "981    0  1  0\n",
       "985    0  1  0\n",
       "986    0  1  0\n",
       "1000   0  1  0\n",
       "1005   0  1  0\n",
       "1011   1  0  0\n",
       "1013   1  0  0\n",
       "1027   0  1  0\n",
       "1096   1  1  0\n",
       "1098   0  1  0\n",
       "1107   0  1  0\n",
       "1115   0  0  1\n",
       "1162   1  1  0\n",
       "1167   0  1  0\n",
       "1204   0  1  0\n",
       "...   .. .. ..\n",
       "7665   0  0  1\n",
       "7691   1  0  0\n",
       "7693   1  0  0\n",
       "7697   0  0  1\n",
       "7702   0  0  1\n",
       "7713   0  0  1\n",
       "7720   1  0  0\n",
       "7733   1  0  0\n",
       "7736   0  0  1\n",
       "7765   0  0  1\n",
       "7767   1  0  0\n",
       "7804   1  0  0\n",
       "7836   0  1  0\n",
       "7852   1  0  0\n",
       "7865   0  0  1\n",
       "7870   1  0  0\n",
       "7907   1  0  0\n",
       "7965   1  0  0\n",
       "8009   1  0  0\n",
       "8090   1  0  0\n",
       "8120   0  0  1\n",
       "8156   1  0  0\n",
       "8167   1  0  0\n",
       "8173   0  0  1\n",
       "8227   1  0  0\n",
       "8294   0  0  1\n",
       "8362   0  1  0\n",
       "8395   1  0  0\n",
       "8555   1  0  0\n",
       "8714   1  0  0\n",
       "\n",
       "[696 rows x 3 columns]"
      ]
     },
     "execution_count": 8,
     "metadata": {},
     "output_type": "execute_result"
    }
   ],
   "source": [
    "#Summarize output\n",
    "pd.crosstab(df['cnt'], kmeans_model.labels_)"
   ]
  },
  {
   "cell_type": "code",
   "execution_count": 9,
   "metadata": {},
   "outputs": [],
   "source": [
    "cluster_range = range( 1, 20 )\n",
    "cluster_errors = []\n",
    "\n",
    "for num_clusters in cluster_range:\n",
    "    clusters = KMeans( num_clusters )\n",
    "    clusters.fit( df.iloc[:,3:7] )\n",
    "    cluster_errors.append( clusters.inertia_ )"
   ]
  },
  {
   "cell_type": "code",
   "execution_count": 10,
   "metadata": {},
   "outputs": [
    {
     "data": {
      "text/html": [
       "<div>\n",
       "<style scoped>\n",
       "    .dataframe tbody tr th:only-of-type {\n",
       "        vertical-align: middle;\n",
       "    }\n",
       "\n",
       "    .dataframe tbody tr th {\n",
       "        vertical-align: top;\n",
       "    }\n",
       "\n",
       "    .dataframe thead th {\n",
       "        text-align: right;\n",
       "    }\n",
       "</style>\n",
       "<table border=\"1\" class=\"dataframe\">\n",
       "  <thead>\n",
       "    <tr style=\"text-align: right;\">\n",
       "      <th></th>\n",
       "      <th>num_clusters</th>\n",
       "      <th>cluster_errors</th>\n",
       "    </tr>\n",
       "  </thead>\n",
       "  <tbody>\n",
       "    <tr>\n",
       "      <th>0</th>\n",
       "      <td>1</td>\n",
       "      <td>11835.603283</td>\n",
       "    </tr>\n",
       "    <tr>\n",
       "      <th>1</th>\n",
       "      <td>2</td>\n",
       "      <td>5277.856779</td>\n",
       "    </tr>\n",
       "    <tr>\n",
       "      <th>2</th>\n",
       "      <td>3</td>\n",
       "      <td>4055.652059</td>\n",
       "    </tr>\n",
       "    <tr>\n",
       "      <th>3</th>\n",
       "      <td>4</td>\n",
       "      <td>3078.441988</td>\n",
       "    </tr>\n",
       "    <tr>\n",
       "      <th>4</th>\n",
       "      <td>5</td>\n",
       "      <td>2337.584072</td>\n",
       "    </tr>\n",
       "    <tr>\n",
       "      <th>5</th>\n",
       "      <td>6</td>\n",
       "      <td>1852.784402</td>\n",
       "    </tr>\n",
       "    <tr>\n",
       "      <th>6</th>\n",
       "      <td>7</td>\n",
       "      <td>1613.160733</td>\n",
       "    </tr>\n",
       "    <tr>\n",
       "      <th>7</th>\n",
       "      <td>8</td>\n",
       "      <td>1422.748481</td>\n",
       "    </tr>\n",
       "    <tr>\n",
       "      <th>8</th>\n",
       "      <td>9</td>\n",
       "      <td>1337.088522</td>\n",
       "    </tr>\n",
       "    <tr>\n",
       "      <th>9</th>\n",
       "      <td>10</td>\n",
       "      <td>1229.872823</td>\n",
       "    </tr>\n",
       "    <tr>\n",
       "      <th>10</th>\n",
       "      <td>11</td>\n",
       "      <td>1135.331500</td>\n",
       "    </tr>\n",
       "    <tr>\n",
       "      <th>11</th>\n",
       "      <td>12</td>\n",
       "      <td>1018.935589</td>\n",
       "    </tr>\n",
       "    <tr>\n",
       "      <th>12</th>\n",
       "      <td>13</td>\n",
       "      <td>976.985265</td>\n",
       "    </tr>\n",
       "    <tr>\n",
       "      <th>13</th>\n",
       "      <td>14</td>\n",
       "      <td>894.524537</td>\n",
       "    </tr>\n",
       "    <tr>\n",
       "      <th>14</th>\n",
       "      <td>15</td>\n",
       "      <td>851.247801</td>\n",
       "    </tr>\n",
       "    <tr>\n",
       "      <th>15</th>\n",
       "      <td>16</td>\n",
       "      <td>809.702691</td>\n",
       "    </tr>\n",
       "    <tr>\n",
       "      <th>16</th>\n",
       "      <td>17</td>\n",
       "      <td>768.424979</td>\n",
       "    </tr>\n",
       "    <tr>\n",
       "      <th>17</th>\n",
       "      <td>18</td>\n",
       "      <td>738.935663</td>\n",
       "    </tr>\n",
       "    <tr>\n",
       "      <th>18</th>\n",
       "      <td>19</td>\n",
       "      <td>702.052788</td>\n",
       "    </tr>\n",
       "  </tbody>\n",
       "</table>\n",
       "</div>"
      ],
      "text/plain": [
       "    num_clusters  cluster_errors\n",
       "0              1    11835.603283\n",
       "1              2     5277.856779\n",
       "2              3     4055.652059\n",
       "3              4     3078.441988\n",
       "4              5     2337.584072\n",
       "5              6     1852.784402\n",
       "6              7     1613.160733\n",
       "7              8     1422.748481\n",
       "8              9     1337.088522\n",
       "9             10     1229.872823\n",
       "10            11     1135.331500\n",
       "11            12     1018.935589\n",
       "12            13      976.985265\n",
       "13            14      894.524537\n",
       "14            15      851.247801\n",
       "15            16      809.702691\n",
       "16            17      768.424979\n",
       "17            18      738.935663\n",
       "18            19      702.052788"
      ]
     },
     "execution_count": 10,
     "metadata": {},
     "output_type": "execute_result"
    }
   ],
   "source": [
    "clusters_df = pd.DataFrame( { \"num_clusters\":cluster_range, \"cluster_errors\": cluster_errors } )\n",
    "clusters_df"
   ]
  },
  {
   "cell_type": "code",
   "execution_count": 11,
   "metadata": {},
   "outputs": [
    {
     "data": {
      "text/plain": [
       "[<matplotlib.lines.Line2D at 0x2bdcbe8e5f8>]"
      ]
     },
     "execution_count": 11,
     "metadata": {},
     "output_type": "execute_result"
    },
    {
     "data": {
      "image/png": "[encoded data removed]",
      "text/plain": [
       "<Figure size 864x432 with 1 Axes>"
      ]
     },
     "metadata": {
      "needs_background": "light"
     },
     "output_type": "display_data"
    }
   ],
   "source": [
    "%matplotlib inline  \n",
    "\n",
    "plt.figure(figsize=(12,6))\n",
    "plt.plot( clusters_df.num_clusters, clusters_df.cluster_errors, marker = \"o\" )"
   ]
  },
  {
   "cell_type": "markdown",
   "metadata": {},
   "source": [
    "Model Development"
   ]
  },
  {
   "cell_type": "code",
   "execution_count": 14,
   "metadata": {},
   "outputs": [],
   "source": [
    "from sklearn.model_selection import train_test_split\n",
    "#Divide data into train and test\n",
    "X = day_df.values[:, 3:15]\n",
    "Y = day_df.values[:, 15]\n",
    "Y=Y.astype(int)\n",
    "\n",
    "X_train, X_test, y_train, y_test = train_test_split( X, Y, test_size = 0.2)"
   ]
  },
  {
   "cell_type": "code",
   "execution_count": 15,
   "metadata": {},
   "outputs": [],
   "source": [
    "from sklearn import tree\n",
    "#Decision Tree\n",
    "C50_model = tree.DecisionTreeClassifier(criterion='entropy').fit(X_train, y_train)"
   ]
  },
  {
   "cell_type": "code",
   "execution_count": 16,
   "metadata": {},
   "outputs": [
    {
     "data": {
      "text/plain": [
       "DecisionTreeClassifier(class_weight=None, criterion='entropy', max_depth=None,\n",
       "            max_features=None, max_leaf_nodes=None,\n",
       "            min_impurity_decrease=0.0, min_impurity_split=None,\n",
       "            min_samples_leaf=1, min_samples_split=2,\n",
       "            min_weight_fraction_leaf=0.0, presort=False, random_state=None,\n",
       "            splitter='best')"
      ]
     },
     "execution_count": 16,
     "metadata": {},
     "output_type": "execute_result"
    }
   ],
   "source": [
    "C50_model"
   ]
  },
  {
   "cell_type": "markdown",
   "metadata": {},
   "source": [
    "Visualizations"
   ]
  },
  {
   "cell_type": "code",
   "execution_count": 17,
   "metadata": {},
   "outputs": [
    {
     "name": "stderr",
     "output_type": "stream",
     "text": [
      "C:\\Users\\Himachala Venkata\\Anaconda3\\lib\\site-packages\\ggplot\\utils.py:81: FutureWarning: pandas.tslib is deprecated and will be removed in a future version.\n",
      "You can access Timestamp as pandas.Timestamp\n",
      "  pd.tslib.Timestamp,\n"
     ]
    }
   ],
   "source": [
    "from ggplot import *"
   ]
  },
  {
   "cell_type": "code",
   "execution_count": 19,
   "metadata": {},
   "outputs": [
    {
     "data": {
      "image/png": "[encoded data removed]",
      "text/plain": [
       "<Figure size 792x576 with 1 Axes>"
      ]
     },
     "metadata": {},
     "output_type": "display_data"
    },
    {
     "data": {
      "text/plain": [
       "<ggplot: (-9223371848465841934)>"
      ]
     },
     "execution_count": 19,
     "metadata": {},
     "output_type": "execute_result"
    }
   ],
   "source": [
    "#bar plot\n",
    "ggplot(day_df, aes(x='temp', y='cnt')) +\\\n",
    "    geom_bar(fill= \"DarkSlateBlue\") +\\\n",
    "    scale_color_brewer(type='diverging', palette=4) +\\\n",
    "    xlab(\"Temp\") + ylab(\"Count\") + ggtitle(\"Bike Rentals\") + theme_bw()"
   ]
  },
  {
   "cell_type": "code",
   "execution_count": 20,
   "metadata": {},
   "outputs": [
    {
     "name": "stderr",
     "output_type": "stream",
     "text": [
      "C:\\Users\\Himachala Venkata\\Anaconda3\\lib\\site-packages\\ggplot\\themes\\theme.py:134: RuntimeWarning: text is an invalid theme parameter\n",
      "  warnings.warn(msg, RuntimeWarning)\n"
     ]
    },
    {
     "data": {
      "image/png": "[encoded data removed]",
      "text/plain": [
       "<Figure size 792x576 with 1 Axes>"
      ]
     },
     "metadata": {},
     "output_type": "display_data"
    },
    {
     "data": {
      "text/plain": [
       "<ggplot: (188388950820)>"
      ]
     },
     "execution_count": 20,
     "metadata": {},
     "output_type": "execute_result"
    }
   ],
   "source": [
    "#Histogram \n",
    "ggplot(day_df, aes(x = 'casual')) + geom_histogram(fill=\"DarkSlateBlue\", colour = \"black\") +\\\n",
    "    geom_density() +\\\n",
    "    theme_bw() + xlab(\"Casual\") + ylab(\"Frequency\") + ggtitle(\"Bike Rentals Analysis\") +\\\n",
    "    theme(text=element_text(size=20))"
   ]
  },
  {
   "cell_type": "code",
   "execution_count": 21,
   "metadata": {},
   "outputs": [
    {
     "name": "stderr",
     "output_type": "stream",
     "text": [
      "C:\\Users\\Himachala Venkata\\Anaconda3\\lib\\site-packages\\ggplot\\themes\\theme.py:134: RuntimeWarning: text is an invalid theme parameter\n",
      "  warnings.warn(msg, RuntimeWarning)\n"
     ]
    },
    {
     "data": {
      "image/png": "[encoded data removed]",
      "text/plain": [
       "<Figure size 792x576 with 1 Axes>"
      ]
     },
     "metadata": {},
     "output_type": "display_data"
    },
    {
     "data": {
      "text/plain": [
       "<ggplot: (-9223371848464144966)>"
      ]
     },
     "execution_count": 21,
     "metadata": {},
     "output_type": "execute_result"
    }
   ],
   "source": [
    "##Box plot\n",
    "ggplot(day_df, aes(x = 'cnt', y = 'temp', fill = 'cnt')) +\\\n",
    "    geom_boxplot(fill = 'cnt')+ theme_bw() + xlab(\"Cnt\") + ylab(\"temp\") +\\\n",
    "    ggtitle(\"Outlier Analysis\") +\\\n",
    "    theme(text=element_text(size=30))"
   ]
  },
  {
   "cell_type": "code",
   "execution_count": null,
   "metadata": {},
   "outputs": [],
   "source": []
  }
 ],
 "metadata": {
  "kernelspec": {
   "display_name": "Python 3",
   "language": "python",
   "name": "python3"
  },
  "language_info": {
   "codemirror_mode": {
    "name": "ipython",
    "version": 3
   },
   "file_extension": ".py",
   "mimetype": "text/x-python",
   "name": "python",
   "nbconvert_exporter": "python",
   "pygments_lexer": "ipython3",
   "version": "3.7.1"
  }
 },
 "nbformat": 4,
 "nbformat_minor": 2
}
